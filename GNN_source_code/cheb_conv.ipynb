{
 "cells": [
  {
   "cell_type": "code",
   "execution_count": 1,
   "outputs": [],
   "source": [
    "# python\n",
    "import os\n",
    "import math\n",
    "import csv\n",
    "\n",
    "# random\n",
    "import random\n",
    "#data analysis libraries\n",
    "import numpy as np\n",
    "import pandas as pd\n",
    "\n",
    "# machine learning\n",
    "import sklearn\n",
    "\n",
    "# deep learning\n",
    "import torch\n",
    "import torch.nn as nn\n",
    "from torch.utils.data import Dataset, DataLoader, random_split\n",
    "import torch.nn.functional as F\n",
    "import pytorch_lightning as pl\n",
    "\n",
    "# graph dl\n",
    "import networkx as nx\n",
    "# import torch_geometric\n",
    "from torch_geometric.nn import conv\n",
    "from torch_geometric import utils\n",
    "\n",
    "# For plotting learning curve\n",
    "from torch.utils.tensorboard import SummaryWriter\n",
    "\n",
    "#visualization libraries\n",
    "import matplotlib.pyplot as plt\n",
    "import seaborn as sns\n",
    "%matplotlib inline\n",
    "\n",
    "# For Progress Bar\n",
    "from tqdm import tqdm\n",
    "\n",
    "#ignore warnings\n",
    "import warnings\n",
    "\n",
    "warnings.filterwarnings('ignore')\n",
    "\n",
    "# auto load change\n",
    "%load_ext autoreload\n",
    "%autoreload 2"
   ],
   "metadata": {
    "collapsed": false,
    "ExecuteTime": {
     "end_time": "2023-09-12T06:37:15.854724200Z",
     "start_time": "2023-09-12T06:37:03.813603Z"
    }
   }
  },
  {
   "cell_type": "code",
   "execution_count": 13,
   "metadata": {
    "collapsed": true,
    "ExecuteTime": {
     "end_time": "2023-09-12T06:49:11.291465800Z",
     "start_time": "2023-09-12T06:49:10.656126500Z"
    }
   },
   "outputs": [],
   "source": [
    "import torch\n",
    "from torch_geometric.data import Data\n",
    "from torch_geometric.nn.conv import MessagePassing\n",
    "\n",
    "X = torch.tensor([[0.0, 0.0, 0.0], [2.0, 1.0, 1.0], [2.0, 2.0, 2.0]])\n",
    "edge_index = torch.tensor([[0, 1, 2, 0], [1, 2, 0, 2]])\n",
    "graph = Data(x=X, edge_index=edge_index)"
   ]
  },
  {
   "cell_type": "markdown",
   "source": [
    "## cheb_conv"
   ],
   "metadata": {
    "collapsed": false
   }
  },
  {
   "cell_type": "code",
   "execution_count": null,
   "outputs": [],
   "source": [
    "class Chebconv(MessagePassing):\n",
    "    def __init__(self, in_channels, out_channels, k):\n",
    "        super().__init__()\n",
    "        self.linear_set = nn.ModuleList([nn.Linear(in_channels, out_channels, bias=False) for i in range(k)])\n",
    "        self.k = k\n",
    "\n",
    "    def _get_norm(self, edge_index):\n",
    "        edge_index, edge_attr = utils.get_laplacian(edge_index)\n",
    "        lambda_max = 2  # assume lmbda_max == 2t\n",
    "        edge_attr = 2 * edge_attr / lambda_max\n",
    "        row, col = edge_index\n",
    "        mask = row == col\n",
    "        edge_attr[mask] =- 1\n",
    "        return edge_attr, edge_index\n",
    "\n",
    "    def forward(self, X, edge_index):\n",
    "        norm, edge_index = self._get_norm(edge_index)\n",
    "        Z_1 = self.linear_set[0](X)\n",
    "        Z_2 = self.linear_set[1](self.propagate(edge_index, x=X, norm=norm))\n",
    "        if self.k == 1:\n",
    "            return Z_1\n",
    "        elif self.k == 2:\n",
    "            return  Z_1 + Z_2\n",
    "        else:\n",
    "            H = Z_1 + Z_2\n",
    "            # loop Z and sum\n",
    "            for i in range(self.k - 2):\n",
    "                Z_k = 2 * self.propagate(edge_index, x=Z_2, norm=norm) - Z_1\n",
    "                H += self.linear_set[i](Z_k)\n",
    "                Z_1 = Z_2\n",
    "                Z_2 = Z_k\n",
    "            return H\n",
    "\n",
    "\n",
    "    def message(self, x_j, norm):  # how to confirm norm is right\n",
    "        return norm.reshape(-1, 1) * x_j\n"
   ],
   "metadata": {
    "collapsed": false
   }
  },
  {
   "cell_type": "markdown",
   "source": [
    "### tips\n",
    "1. use multi k=1 cheb_conv"
   ],
   "metadata": {
    "collapsed": false
   }
  }
 ],
 "metadata": {
  "kernelspec": {
   "display_name": "Python 3",
   "language": "python",
   "name": "python3"
  },
  "language_info": {
   "codemirror_mode": {
    "name": "ipython",
    "version": 2
   },
   "file_extension": ".py",
   "mimetype": "text/x-python",
   "name": "python",
   "nbconvert_exporter": "python",
   "pygments_lexer": "ipython2",
   "version": "2.7.6"
  }
 },
 "nbformat": 4,
 "nbformat_minor": 0
}
