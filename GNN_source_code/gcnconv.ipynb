{
 "cells": [
  {
   "cell_type": "code",
   "execution_count": 2,
   "outputs": [],
   "source": [
    "# python\n",
    "import os\n",
    "import math\n",
    "import csv\n",
    "\n",
    "# random\n",
    "import random\n",
    "#data analysis libraries\n",
    "import numpy as np\n",
    "import pandas as pd\n",
    "\n",
    "# machine learning\n",
    "import sklearn\n",
    "\n",
    "# deep learning\n",
    "import torch\n",
    "import torch.nn as nn\n",
    "from torch.utils.data import Dataset, DataLoader, random_split\n",
    "import torch.nn.functional as F\n",
    "import pytorch_lightning as pl\n",
    "\n",
    "# graph dl\n",
    "import networkx as nx\n",
    "# import torch_geometric\n",
    "from torch_geometric.nn import conv\n",
    "from torch_geometric import utils\n",
    "\n",
    "# For plotting learning curve\n",
    "from torch.utils.tensorboard import SummaryWriter\n",
    "\n",
    "#visualization libraries\n",
    "import matplotlib.pyplot as plt\n",
    "import seaborn as sns\n",
    "%matplotlib inline\n",
    "\n",
    "# For Progress Bar\n",
    "from tqdm import tqdm\n",
    "\n",
    "#ignore warnings\n",
    "import warnings\n",
    "\n",
    "warnings.filterwarnings('ignore')\n",
    "\n",
    "# auto load change\n",
    "%load_ext autoreload\n",
    "%autoreload 2"
   ],
   "metadata": {
    "collapsed": false,
    "ExecuteTime": {
     "end_time": "2023-09-11T10:24:30.679412100Z",
     "start_time": "2023-09-11T10:24:24.668234300Z"
    }
   }
  },
  {
   "cell_type": "code",
   "execution_count": 65,
   "metadata": {
    "collapsed": true,
    "ExecuteTime": {
     "end_time": "2023-09-11T12:36:13.751760700Z",
     "start_time": "2023-09-11T12:36:13.317770300Z"
    }
   },
   "outputs": [],
   "source": [
    "import torch\n",
    "from torch_geometric.data import Data\n",
    "from torch_geometric.nn.conv import MessagePassing\n",
    "\n",
    "X = torch.tensor([[0.0, 0.0, 0.0], [2.0, 1.0, 1.0], [2.0, 2.0, 2.0]])\n",
    "edge_index = torch.tensor([[0, 1, 2, 0], [1, 2, 0, 2]])\n",
    "graph = Data(x=X, edge_index=edge_index)"
   ]
  },
  {
   "cell_type": "markdown",
   "source": [
    "### GCNConv\n",
    "`row, col = edge_index`\n",
    "+ message: x_j[E, out_channels] according to row(outgoing node point to other node)\n",
    "+ $D$: use `deg[row]`\n",
    "+ notice `inf` use `deg[deg == float('inf')] = 0`"
   ],
   "metadata": {
    "collapsed": false
   }
  },
  {
   "cell_type": "code",
   "execution_count": 73,
   "outputs": [],
   "source": [
    "class Gcnconv(MessagePassing):\n",
    "    def __init__(self, in_channels, out_channels):\n",
    "        super().__init__()\n",
    "        self.lin = nn.Linear(in_channels, out_channels)\n",
    "\n",
    "    def _get_norm(self, edge_index):\n",
    "        edge_index, _ = utils.add_self_loops(edge_index)\n",
    "        row, col = edge_index\n",
    "        deg = torch.bincount(col)\n",
    "        deg[deg == float('inf')] = 0\n",
    "        norm = deg[row] ** (-0.5) * torch.sqrt(deg[col])  ** (-0.5)\n",
    "        return norm, edge_index\n",
    "\n",
    "    def forward(self, X, edge_index):\n",
    "        H = self.lin(X)\n",
    "        norm, edge_index = self._get_norm(edge_index)\n",
    "        H = self.propagate(edge_index, x=H, norm=norm)\n",
    "        return H\n",
    "\n",
    "    def message(self, x_j, norm):  # how to confirm norm is right\n",
    "        return norm.reshape(-1, 1) * x_j\n"
   ],
   "metadata": {
    "collapsed": false,
    "ExecuteTime": {
     "end_time": "2023-09-11T12:37:54.320046100Z",
     "start_time": "2023-09-11T12:37:53.868055300Z"
    }
   }
  },
  {
   "cell_type": "code",
   "execution_count": 74,
   "outputs": [
    {
     "data": {
      "text/plain": "tensor([[-0.4896, -0.5754,  0.0499, -0.9470, -0.2284],\n        [-0.5525, -0.3090,  0.1347, -1.0212, -0.0999],\n        [-0.9325, -0.7956,  0.2554, -1.5310, -0.2120]],\n       grad_fn=<ScatterAddBackward0>)"
     },
     "execution_count": 74,
     "metadata": {},
     "output_type": "execute_result"
    }
   ],
   "source": [
    "net = Gcnconv(3, 5)\n",
    "net(X, edge_index)"
   ],
   "metadata": {
    "collapsed": false
   }
  }
 ],
 "metadata": {
  "kernelspec": {
   "display_name": "Python 3",
   "language": "python",
   "name": "python3"
  },
  "language_info": {
   "codemirror_mode": {
    "name": "ipython",
    "version": 2
   },
   "file_extension": ".py",
   "mimetype": "text/x-python",
   "name": "python",
   "nbconvert_exporter": "python",
   "pygments_lexer": "ipython2",
   "version": "2.7.6"
  }
 },
 "nbformat": 4,
 "nbformat_minor": 0
}
